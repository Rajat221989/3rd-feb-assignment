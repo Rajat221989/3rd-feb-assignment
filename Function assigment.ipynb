{
 "cells": [
  {
   "cell_type": "markdown",
   "id": "fa467252-b027-450c-b60c-1cbe3da22db9",
   "metadata": {},
   "source": [
    "# 3rd feb assignment"
   ]
  },
  {
   "cell_type": "markdown",
   "id": "5df55483-924f-4739-98d5-db7f0d9a405e",
   "metadata": {},
   "source": [
    "#Q1. Which keyword is used to create a function? Create a function to return a list of odd numbers in the\n",
    "range of 1 to 25."
   ]
  },
  {
   "cell_type": "code",
   "execution_count": 1,
   "id": "fd64c8fe-f15e-40f0-a484-7966eaa838e6",
   "metadata": {},
   "outputs": [],
   "source": [
    "# def  is used to creat function"
   ]
  },
  {
   "cell_type": "code",
   "execution_count": 12,
   "id": "753a618b-542a-45df-bad5-14f78f9381e5",
   "metadata": {},
   "outputs": [],
   "source": [
    "def odd(n):\n",
    "    return list(range(1,n,2))   \n",
    "    "
   ]
  },
  {
   "cell_type": "code",
   "execution_count": 13,
   "id": "7bf6718b-1a50-4507-b957-99cb7b313957",
   "metadata": {},
   "outputs": [
    {
     "data": {
      "text/plain": [
       "[1, 3, 5, 7, 9, 11, 13, 15, 17, 19, 21, 23]"
      ]
     },
     "execution_count": 13,
     "metadata": {},
     "output_type": "execute_result"
    }
   ],
   "source": [
    "odd(25)"
   ]
  },
  {
   "cell_type": "markdown",
   "id": "8ba8a1f9-8939-4796-9af0-5fe2eec38f66",
   "metadata": {},
   "source": [
    "#Q2. Why *args and **kwargs is used in some functions? Create a function each for *args and **kwargs\n",
    "to demonstrate their use."
   ]
  },
  {
   "cell_type": "raw",
   "id": "7ce7afc3-c03c-4ba5-b6b9-d20f8ac91897",
   "metadata": {},
   "source": [
    "# We can use *args and **kwargs as arguments of a function when we are unsure about the number of arguments \n",
    "to pass in the functions. kwargs is used for making dict type data having keywords."
   ]
  },
  {
   "cell_type": "code",
   "execution_count": 14,
   "id": "5834f7ed-610c-46f9-a8aa-67ab50d7fd00",
   "metadata": {},
   "outputs": [],
   "source": [
    "def test(*args):\n",
    "    return args"
   ]
  },
  {
   "cell_type": "code",
   "execution_count": 15,
   "id": "2c57398c-d07a-4736-bc22-6fe47c7d41d0",
   "metadata": {},
   "outputs": [
    {
     "data": {
      "text/plain": [
       "(1, 2, 3, 4, 5, 6, 'rajat', 'kumar', [5, 6, 89])"
      ]
     },
     "execution_count": 15,
     "metadata": {},
     "output_type": "execute_result"
    }
   ],
   "source": [
    "test(1,2,3,4,5,6,\"rajat\",\"kumar\",[5,6,89])"
   ]
  },
  {
   "cell_type": "code",
   "execution_count": 17,
   "id": "8475ec82-0a89-4456-acf4-9bc73506875c",
   "metadata": {},
   "outputs": [],
   "source": [
    "def test2(**kwargs):\n",
    "    return kwargs"
   ]
  },
  {
   "cell_type": "code",
   "execution_count": 19,
   "id": "a1e9e529-6591-4221-8c3a-215775d91264",
   "metadata": {},
   "outputs": [
    {
     "data": {
      "text/plain": [
       "{'a': 23, 'b': 45, 'c': 5, 'd': 78}"
      ]
     },
     "execution_count": 19,
     "metadata": {},
     "output_type": "execute_result"
    }
   ],
   "source": [
    "test2(a=23,b=45,c=5,d=78)"
   ]
  },
  {
   "cell_type": "raw",
   "id": "3e9552de-ec80-4db3-8b16-f70beac8d8e6",
   "metadata": {},
   "source": [
    "#Q3. What is an iterator in python? Name the method used to initialise the iterator object and the method\n",
    "used for iteration. Use these methods to print the first five elements of the given list [2, 4, 6, 8, 10, 12, 14,\n",
    "16, 18, 20]."
   ]
  },
  {
   "cell_type": "markdown",
   "id": "997db88b-6b06-49bd-a4fa-854c270ddf1b",
   "metadata": {},
   "source": [
    "#Iterator in Python is an object that is used to iterate over iterable objects like lists, tuples,\n",
    "dicts, and sets. The iterator object is initialized using the iter() method. It uses the next() method for iteration."
   ]
  },
  {
   "cell_type": "code",
   "execution_count": 1,
   "id": "759d4537-fb4b-4466-affa-70bf930a1a17",
   "metadata": {},
   "outputs": [],
   "source": [
    "l=[2, 4, 6, 8, 10, 12, 14,16, 18, 20]"
   ]
  },
  {
   "cell_type": "code",
   "execution_count": 2,
   "id": "f2e296d6-c4cf-4ac8-b9bb-5d5981657fbc",
   "metadata": {},
   "outputs": [],
   "source": [
    "l1=iter(l)"
   ]
  },
  {
   "cell_type": "code",
   "execution_count": 4,
   "id": "4497a10c-6652-44b7-840a-90f4af15799d",
   "metadata": {},
   "outputs": [
    {
     "data": {
      "text/plain": [
       "2"
      ]
     },
     "execution_count": 4,
     "metadata": {},
     "output_type": "execute_result"
    }
   ],
   "source": [
    "next(l1)"
   ]
  },
  {
   "cell_type": "code",
   "execution_count": 5,
   "id": "8caf6a14-98cd-401f-a527-7f739e808ca3",
   "metadata": {},
   "outputs": [
    {
     "data": {
      "text/plain": [
       "4"
      ]
     },
     "execution_count": 5,
     "metadata": {},
     "output_type": "execute_result"
    }
   ],
   "source": [
    "next(l1)"
   ]
  },
  {
   "cell_type": "code",
   "execution_count": 6,
   "id": "0f70be34-8541-4ded-8bba-b09c0fcfdb4e",
   "metadata": {},
   "outputs": [
    {
     "data": {
      "text/plain": [
       "6"
      ]
     },
     "execution_count": 6,
     "metadata": {},
     "output_type": "execute_result"
    }
   ],
   "source": [
    "next(l1)"
   ]
  },
  {
   "cell_type": "code",
   "execution_count": 7,
   "id": "62f878a9-c9a7-43eb-b05d-34ac6c8f3306",
   "metadata": {},
   "outputs": [
    {
     "data": {
      "text/plain": [
       "8"
      ]
     },
     "execution_count": 7,
     "metadata": {},
     "output_type": "execute_result"
    }
   ],
   "source": [
    "next(l1)"
   ]
  },
  {
   "cell_type": "code",
   "execution_count": 8,
   "id": "830d00fe-8c9b-4283-b725-b7eb2b391df9",
   "metadata": {},
   "outputs": [
    {
     "data": {
      "text/plain": [
       "10"
      ]
     },
     "execution_count": 8,
     "metadata": {},
     "output_type": "execute_result"
    }
   ],
   "source": [
    "next(l1)"
   ]
  },
  {
   "cell_type": "markdown",
   "id": "2ec9e4e7-188e-4f7a-84ab-6c868b7cf87a",
   "metadata": {},
   "source": [
    "Q4. What is a generator function in python? Why yield keyword is used? Give an example of a generator\n",
    "function."
   ]
  },
  {
   "cell_type": "markdown",
   "id": "16702098-bfbb-4ddd-8b3a-ad09f2e4cb36",
   "metadata": {},
   "source": [
    " A generator-function is defined like a normal function, but whenever it needs to generate a value, it does so with the yield keyword rather than return. If the body of a def contains yield, the function automatically becomes a generator function. \n",
    " \n",
    " Yield keyword is used to create a generator function.The yield keyword in Python is similar to a return statement used for returning values in Python which returns a generator object to the one who calls the function which contains yield, instead of simply returning a value. \n",
    " The main difference between them is, the return statement terminates the execution of the function. Whereas, the yield statement only pauses the execution of the function. Another difference is return statements are never executed. whereas, yield statements are executed when the function resumes its execution.\n",
    " Example- Creating a Arithmetic Sequences having difference of 1 and starting from 2\n",
    " "
   ]
  },
  {
   "cell_type": "code",
   "execution_count": 14,
   "id": "1e85278c-ed77-428f-bf03-5dc248ee50ce",
   "metadata": {},
   "outputs": [],
   "source": [
    "def arith(n):\n",
    "    a=2\n",
    "    for i in range(n):\n",
    "        yield a\n",
    "        a=a+1\n",
    "    "
   ]
  },
  {
   "cell_type": "code",
   "execution_count": 15,
   "id": "77144aee-b439-4696-be01-5676e00eea18",
   "metadata": {},
   "outputs": [
    {
     "name": "stdout",
     "output_type": "stream",
     "text": [
      "2\n",
      "3\n",
      "4\n",
      "5\n",
      "6\n",
      "7\n",
      "8\n",
      "9\n",
      "10\n",
      "11\n",
      "12\n",
      "13\n",
      "14\n",
      "15\n",
      "16\n"
     ]
    }
   ],
   "source": [
    "for i in arith(15):\n",
    "    print(i)"
   ]
  },
  {
   "cell_type": "markdown",
   "id": "80e29070-5a99-405e-818a-ae465ced9ebf",
   "metadata": {},
   "source": [
    "#Q5. Create a generator function for prime numbers less than 1000. Use the next() method to print the\n",
    "first 20 prime numbers."
   ]
  },
  {
   "cell_type": "code",
   "execution_count": 28,
   "id": "36942e8a-7fe0-4339-aeb8-083c2f2ec79f",
   "metadata": {},
   "outputs": [],
   "source": [
    "def prime_numbers(n):\n",
    "    primes = []\n",
    "    for i in range(2, n + 1):\n",
    "        for j in range(2, int(i ** 0.5) + 1):\n",
    "            if i%j == 0:\n",
    "                break\n",
    "        else:\n",
    "            primes.append(i)\n",
    "    yield primes"
   ]
  },
  {
   "cell_type": "code",
   "execution_count": 29,
   "id": "1348ae6f-dc38-4ca8-8227-7b372f089e4d",
   "metadata": {},
   "outputs": [],
   "source": [
    "prime_list = prime_numbers(1000)"
   ]
  },
  {
   "cell_type": "code",
   "execution_count": 30,
   "id": "c5dc5947-c0e3-4319-a67a-b0d0d72ff2ab",
   "metadata": {},
   "outputs": [
    {
     "name": "stdout",
     "output_type": "stream",
     "text": [
      "<generator object prime_numbers at 0x7f986dcd6810>\n"
     ]
    }
   ],
   "source": [
    "print(prime_list)"
   ]
  },
  {
   "cell_type": "code",
   "execution_count": 31,
   "id": "1c4b594d-8fdf-4ac6-b11d-df9b1d3ad639",
   "metadata": {},
   "outputs": [
    {
     "name": "stdout",
     "output_type": "stream",
     "text": [
      "[2, 3, 5, 7, 11, 13, 17, 19, 23, 29, 31, 37, 41, 43, 47, 53, 59, 61, 67, 71, 73, 79, 83, 89, 97, 101, 103, 107, 109, 113, 127, 131, 137, 139, 149, 151, 157, 163, 167, 173, 179, 181, 191, 193, 197, 199, 211, 223, 227, 229, 233, 239, 241, 251, 257, 263, 269, 271, 277, 281, 283, 293, 307, 311, 313, 317, 331, 337, 347, 349, 353, 359, 367, 373, 379, 383, 389, 397, 401, 409, 419, 421, 431, 433, 439, 443, 449, 457, 461, 463, 467, 479, 487, 491, 499, 503, 509, 521, 523, 541, 547, 557, 563, 569, 571, 577, 587, 593, 599, 601, 607, 613, 617, 619, 631, 641, 643, 647, 653, 659, 661, 673, 677, 683, 691, 701, 709, 719, 727, 733, 739, 743, 751, 757, 761, 769, 773, 787, 797, 809, 811, 821, 823, 827, 829, 839, 853, 857, 859, 863, 877, 881, 883, 887, 907, 911, 919, 929, 937, 941, 947, 953, 967, 971, 977, 983, 991, 997]\n"
     ]
    }
   ],
   "source": [
    "for p in prime_list:\n",
    "    print(p)"
   ]
  },
  {
   "cell_type": "markdown",
   "id": "34c41548-b9f3-4423-b096-1ec25304677a",
   "metadata": {},
   "source": [
    "#Q6. Write a python program to print the first 10 Fibonacci numbers using a while loop."
   ]
  },
  {
   "cell_type": "code",
   "execution_count": 1,
   "id": "cf6cc365-a626-47cf-9981-83c28a7ecd11",
   "metadata": {},
   "outputs": [],
   "source": [
    "def feb(n):\n",
    "    a,b=0,1\n",
    "    i=0\n",
    "    while i <= n:\n",
    "        yield a\n",
    "        a,b=b,a+b\n",
    "        i = i+1"
   ]
  },
  {
   "cell_type": "code",
   "execution_count": 2,
   "id": "cdfec0e7-e60a-49c9-9b0c-735b08103de2",
   "metadata": {},
   "outputs": [
    {
     "name": "stdout",
     "output_type": "stream",
     "text": [
      "0\n",
      "1\n",
      "1\n",
      "2\n",
      "3\n",
      "5\n",
      "8\n",
      "13\n",
      "21\n",
      "34\n",
      "55\n"
     ]
    }
   ],
   "source": [
    "for i in feb(10):\n",
    "    print(i)"
   ]
  },
  {
   "cell_type": "markdown",
   "id": "a6c43efe-8eaa-4828-8042-ad81fb841079",
   "metadata": {},
   "source": [
    "#Q7. Write a List Comprehension to iterate through the given string: ‘pwskills’.\n",
    "Expected output: ['p', 'w', 's', 'k', 'i', 'l', 'l', 's']"
   ]
  },
  {
   "cell_type": "code",
   "execution_count": 3,
   "id": "a20a4700-d2f1-442e-9719-7adc1e75c2b0",
   "metadata": {},
   "outputs": [
    {
     "name": "stdout",
     "output_type": "stream",
     "text": [
      "['p', 'w', 's', 'k', 'i', 'l', 'l', 's']\n"
     ]
    }
   ],
   "source": [
    "l=[]\n",
    "for i in 'pwskills':\n",
    "    l.append(i)\n",
    "print(l)    "
   ]
  },
  {
   "cell_type": "markdown",
   "id": "83b99418-ceab-4d0c-b1bd-61a33d265a8b",
   "metadata": {},
   "source": [
    "#Q8. Write a python program to check whether a given number is Palindrome or not using a while loop."
   ]
  },
  {
   "cell_type": "code",
   "execution_count": 5,
   "id": "b55a6408-3b93-468a-95ee-a2b559ec62d1",
   "metadata": {},
   "outputs": [
    {
     "name": "stdin",
     "output_type": "stream",
     "text": [
      "Enter the number 123456\n"
     ]
    },
    {
     "name": "stdout",
     "output_type": "stream",
     "text": [
      "654321\n"
     ]
    }
   ],
   "source": [
    "a=int(input(\"Enter the number\"))\n",
    "Rev_no=0\n",
    "while a>0:\n",
    "    b=a % 10\n",
    "    Rev_no= Rev_no*10 + b\n",
    "    a = a // 10\n",
    "print(Rev_no)    \n",
    "    "
   ]
  },
  {
   "cell_type": "markdown",
   "id": "775205fe-6126-4cb8-9d7b-3922b073add9",
   "metadata": {},
   "source": [
    "#Q9. Write a code to print odd numbers from 1 to 100 using list comprehension."
   ]
  },
  {
   "cell_type": "code",
   "execution_count": 6,
   "id": "7d1d868f-77f7-4e07-9f9b-f7f4b03ac153",
   "metadata": {},
   "outputs": [
    {
     "data": {
      "text/plain": [
       "[1,\n",
       " 3,\n",
       " 5,\n",
       " 7,\n",
       " 9,\n",
       " 11,\n",
       " 13,\n",
       " 15,\n",
       " 17,\n",
       " 19,\n",
       " 21,\n",
       " 23,\n",
       " 25,\n",
       " 27,\n",
       " 29,\n",
       " 31,\n",
       " 33,\n",
       " 35,\n",
       " 37,\n",
       " 39,\n",
       " 41,\n",
       " 43,\n",
       " 45,\n",
       " 47,\n",
       " 49,\n",
       " 51,\n",
       " 53,\n",
       " 55,\n",
       " 57,\n",
       " 59,\n",
       " 61,\n",
       " 63,\n",
       " 65,\n",
       " 67,\n",
       " 69,\n",
       " 71,\n",
       " 73,\n",
       " 75,\n",
       " 77,\n",
       " 79,\n",
       " 81,\n",
       " 83,\n",
       " 85,\n",
       " 87,\n",
       " 89,\n",
       " 91,\n",
       " 93,\n",
       " 95,\n",
       " 97,\n",
       " 99]"
      ]
     },
     "execution_count": 6,
     "metadata": {},
     "output_type": "execute_result"
    }
   ],
   "source": [
    "[i for i in list(range(1,100,2))]"
   ]
  },
  {
   "cell_type": "code",
   "execution_count": null,
   "id": "d96486d1-8f5c-4b9a-8674-0688280d5ece",
   "metadata": {},
   "outputs": [],
   "source": []
  }
 ],
 "metadata": {
  "kernelspec": {
   "display_name": "Python 3 (ipykernel)",
   "language": "python",
   "name": "python3"
  },
  "language_info": {
   "codemirror_mode": {
    "name": "ipython",
    "version": 3
   },
   "file_extension": ".py",
   "mimetype": "text/x-python",
   "name": "python",
   "nbconvert_exporter": "python",
   "pygments_lexer": "ipython3",
   "version": "3.10.8"
  }
 },
 "nbformat": 4,
 "nbformat_minor": 5
}
